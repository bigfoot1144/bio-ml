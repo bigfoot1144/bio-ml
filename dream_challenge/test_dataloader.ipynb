{
 "cells": [
  {
   "cell_type": "code",
   "execution_count": null,
   "metadata": {},
   "outputs": [
    {
     "data": {
      "text/plain": [
       "'TGCATTTTTTTCACATCTCTTTGCCACGGGGTGAAGGATAGGATGGTATCCCCCCAGGCGAAGGACATCTGTGGGGATGGTTAGGTCAGGTGATATCGGTTACGGCTGTT'"
      ]
     },
     "execution_count": 7,
     "metadata": {},
     "output_type": "execute_result"
    }
   ],
   "source": [
    "import polars as pl\n",
    "\n",
    "df = pl.read_csv(\"dream_train.csv\")\n",
    "\n",
    "idx = 0\n",
    "df[0][\"sequence\"].item()"
   ]
  },
  {
   "cell_type": "code",
   "execution_count": 18,
   "metadata": {},
   "outputs": [],
   "source": [
    "from torch.utils.data import Dataset, DataLoader\n",
    "import torch\n",
    "nucleotide_mapping = {'T': 0, 'G': 1, 'C': 2, 'A': 3}\n",
    "\n",
    "class CustomImageDataset(Dataset):\n",
    "    def __init__(self,input_csv=\"dream_train.csv\"):\n",
    "        self.df = pl.read_csv(input_csv)\n",
    "\n",
    "    def __len__(self):\n",
    "        return len(self.df)\n",
    "\n",
    "    def __getitem__(self, idx):\n",
    "        item = self.df[idx]\n",
    "        sequence = item['sequence'].item()\n",
    "        expression = item['expression'].item()\n",
    "        one_hot = []\n",
    "        # Process each character up to max_length\n",
    "        for c in sequence:\n",
    "            if c in nucleotide_mapping:\n",
    "                vec = [0.0] * 4\n",
    "                vec[nucleotide_mapping[c]] = 1.0\n",
    "            else:  # Handle 'N' or any invalid characters\n",
    "                vec = [0.0] * 4\n",
    "            one_hot.append(vec)\n",
    "        x = torch.tensor(one_hot, dtype=torch.float32)\n",
    "        y = torch.tensor(expression, dtype=torch.float32)\n",
    "        return x,y\n",
    "    \n"
   ]
  },
  {
   "cell_type": "code",
   "execution_count": 22,
   "metadata": {},
   "outputs": [
    {
     "data": {
      "text/plain": [
       "torch.Size([142, 4])"
      ]
     },
     "execution_count": 22,
     "metadata": {},
     "output_type": "execute_result"
    }
   ],
   "source": [
    "dataset = CustomImageDataset(\"train.csv\")\n",
    "dataset[0][0].shape"
   ]
  }
 ],
 "metadata": {
  "kernelspec": {
   "display_name": ".venv",
   "language": "python",
   "name": "python3"
  },
  "language_info": {
   "codemirror_mode": {
    "name": "ipython",
    "version": 3
   },
   "file_extension": ".py",
   "mimetype": "text/x-python",
   "name": "python",
   "nbconvert_exporter": "python",
   "pygments_lexer": "ipython3",
   "version": "3.12.8"
  }
 },
 "nbformat": 4,
 "nbformat_minor": 2
}
